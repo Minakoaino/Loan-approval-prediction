{
 "cells": [
  {
   "cell_type": "markdown",
   "id": "68e5d2b9",
   "metadata": {},
   "source": [
    "### (Machine Learning – Python): Predicting Loan Approval Using KNN and Decision Trees"
   ]
  },
  {
   "cell_type": "markdown",
   "id": "ba2ff8b2",
   "metadata": {},
   "source": [
    "### <span style=\"color:#6f70d1\">Understanding the Problem Statement</span>"
   ]
  },
  {
   "cell_type": "markdown",
   "id": "96f0832c",
   "metadata": {},
   "source": [
    "The business case for this project is to develop a model that can predict loan approval for individuals. By using previous data on loan decisions made by the company, the goal is to create a machine learning model that can automate and simplify the loan approval process, reducing risk and improving decision-making efficiency.\n",
    "In this project, we will develop a model to predict who is eligible for a loan in order to reduce the risk associated with the decision process and to modify the typical loan approval process into a much easier one. Moreover, we will make use of previous data of loan decisions made by the company and with the help of various data mining techniques, we will develop a loan approval decision predicting model which can draw decisions for each individual based on the information provided by them."
   ]
  },
  {
   "cell_type": "markdown",
   "id": "b1559091",
   "metadata": {},
   "source": [
    "The steps involved in solving this problem include:\n",
    "\n",
    "- Data exploration and preprocessing: Analyze the dataset, handle missing values, convert categorical variables into numeric form, and normalize or standardize numerical variables if required.\n",
    "- Splitting the data: Divide the dataset into features (X) and the target variable (y), and further split it into training and test sets to assess model performance.\n",
    "- Model training: Build and train a KNN classifier and a Decision Tree classifier on the training data.\n",
    "- Model evaluation: Make predictions using the trained models on the test set and evaluate their performance using metrics such as accuracy, precision, recall, and F1-score.\n",
    "- Model comparison: Compare the performance of the KNN and Decision Tree models to determine which one performs better for loan approval prediction"
   ]
  },
  {
   "cell_type": "markdown",
   "id": "51c52e0e",
   "metadata": {},
   "source": [
    "### <span style=\"color:#6f70d1\">K-Nearest Neighbor</span>"
   ]
  },
  {
   "cell_type": "markdown",
   "id": "77ff303d",
   "metadata": {},
   "source": [
    "K-Nearest Neighbors is a supervised machine learning algorithm used for both classification and regression tasks. It operates based on the principle that similar instances tend to have similar labels. KNN is a non-parametric algorithm, meaning it does not make assumptions about the underlying data distribution.\n",
    "In KNN, the \"K\" refers to the number of nearest neighbors used to make predictions. Given a new instance, KNN finds the K closest instances in the training data based on a distance metric (e.g., Euclidean distance) and assigns the class label (for classification) or calculates the average value (for regression) based on the labels of the K neighbors.\n",
    "KNN's simplicity and flexibility make it easy to understand and implement. It can handle both numerical and categorical features, and it can adapt to complex decision boundaries. However, KNN can be sensitive to the choice of distance metric, may require careful preprocessing of the data, and can be computationally expensive for large datasets."
   ]
  },
  {
   "cell_type": "markdown",
   "id": "a12e86f4",
   "metadata": {},
   "source": [
    "### <span style=\"color:#6f70d1\">Decision Trees</span>"
   ]
  },
  {
   "cell_type": "markdown",
   "id": "617589dd",
   "metadata": {},
   "source": [
    "A Decision Tree is a supervised machine learning algorithm used for both classification and regression tasks. It builds a model in the form of a tree structure by partitioning the feature space based on feature values. The tree is constructed by recursively splitting the data based on the features to create branches that represent different decision paths.\n",
    "Decision Trees make decisions by evaluating feature values at each internal node and following the corresponding branch until reaching a leaf node, which represents the predicted class or value. The splits in the tree are determined based on criteria that maximize the homogeneity or purity of the resulting subsets. Common criteria include Gini impurity and entropy.\n",
    "Decision Trees have several advantages, such as being interpretable, handling both numerical and categorical features, and capturing non-linear relationships. However, they can be prone to overfitting and may not generalize well to unseen data if the tree is too complex."
   ]
  },
  {
   "cell_type": "markdown",
   "id": "32499d6b",
   "metadata": {},
   "source": [
    "### The data\n",
    "Data selection is very important for every machine learning problem. \n",
    "The dataset chosen for this project is located here <a href=\"https://github.com/prasertcbs/basic-dataset/blob/master/Loan-Approval-Prediction.csv\">here</a>\n",
    "\n"
   ]
  },
  {
   "cell_type": "markdown",
   "id": "548932b0",
   "metadata": {},
   "source": [
    "The dataset is in CSV format and contains the following columns:\n",
    "\n",
    "- Loan_ID: Identifier for the loan.\n",
    "- Gender: Gender of the applicant. (Male/Female)\n",
    "- Married: Marital status of the applicant. (Yes/No)\n",
    "- Dependents: Number of people dependent on the applicant. (0/1/2/3+)\n",
    "- Education: Educational qualification of the applicant. (Graduate/Not Graduate)\n",
    "- Self_Employed: Whether the applicant is self-employed or not. (Yes/No)\n",
    "- ApplicantIncome: Income of the applicant.\n",
    "- CoapplicantIncome: Income of the co-applicant.\n",
    "- LoanAmount: The amount of loan requested.\n",
    "- Loan_Amount_Term: The term period of the loan in months.\n",
    "- Credit_History: Whether the applicant has a credit history or not. (1/0)\n",
    "- Property_Area: Area category of the property. (Urban/Rural/Semiurban)\n",
    "- Loan_Status: Whether the loan was approved or not. (Y/N)\n",
    "\n",
    "Before building our machine learning models, we need to analyze this data.\n",
    "We need to do some basic data exploratory analysis like checking the data types, looking for missing values, visualizing the distribution of the data, etc. "
   ]
  },
  {
   "cell_type": "markdown",
   "id": "d52cb2db",
   "metadata": {},
   "source": [
    "### Step 1: Data exploration, cleaning and Preprocessing"
   ]
  },
  {
   "cell_type": "code",
   "execution_count": 14,
   "id": "8e155a9c",
   "metadata": {},
   "outputs": [],
   "source": [
    "#import the libraries that we will need\n",
    "import pandas as pd\n",
    "import numpy as np\n",
    "from sklearn.model_selection import train_test_split\n",
    "from sklearn.preprocessing import StandardScaler\n",
    "from sklearn.neighbors import KNeighborsClassifier\n",
    "from sklearn.tree import DecisionTreeClassifier\n",
    "from sklearn.metrics import accuracy_score, precision_score, recall_score, f1_score, confusion_matrix\n",
    "import urllib.request\n",
    "import pandas as pd\n",
    "from sklearn.preprocessing import StandardScaler, LabelEncoder\n",
    "import matplotlib.pyplot as plt\n",
    "import seaborn as sns\n",
    "from sklearn.metrics import confusion_matrix, classification_report"
   ]
  },
  {
   "cell_type": "markdown",
   "id": "955cb5de",
   "metadata": {},
   "source": [
    "### Getting the data"
   ]
  },
  {
   "cell_type": "code",
   "execution_count": 2,
   "id": "c65bf1a1",
   "metadata": {},
   "outputs": [
    {
     "data": {
      "text/html": [
       "<div>\n",
       "<style scoped>\n",
       "    .dataframe tbody tr th:only-of-type {\n",
       "        vertical-align: middle;\n",
       "    }\n",
       "\n",
       "    .dataframe tbody tr th {\n",
       "        vertical-align: top;\n",
       "    }\n",
       "\n",
       "    .dataframe thead th {\n",
       "        text-align: right;\n",
       "    }\n",
       "</style>\n",
       "<table border=\"1\" class=\"dataframe\">\n",
       "  <thead>\n",
       "    <tr style=\"text-align: right;\">\n",
       "      <th></th>\n",
       "      <th>Loan_ID</th>\n",
       "      <th>Gender</th>\n",
       "      <th>Married</th>\n",
       "      <th>Dependents</th>\n",
       "      <th>Education</th>\n",
       "      <th>Self_Employed</th>\n",
       "      <th>ApplicantIncome</th>\n",
       "      <th>CoapplicantIncome</th>\n",
       "      <th>LoanAmount</th>\n",
       "      <th>Loan_Amount_Term</th>\n",
       "      <th>Credit_History</th>\n",
       "      <th>Property_Area</th>\n",
       "      <th>Loan_Status</th>\n",
       "    </tr>\n",
       "  </thead>\n",
       "  <tbody>\n",
       "    <tr>\n",
       "      <th>0</th>\n",
       "      <td>LP001002</td>\n",
       "      <td>Male</td>\n",
       "      <td>No</td>\n",
       "      <td>0</td>\n",
       "      <td>Graduate</td>\n",
       "      <td>No</td>\n",
       "      <td>5849</td>\n",
       "      <td>0.0</td>\n",
       "      <td>NaN</td>\n",
       "      <td>360.0</td>\n",
       "      <td>1.0</td>\n",
       "      <td>Urban</td>\n",
       "      <td>Y</td>\n",
       "    </tr>\n",
       "    <tr>\n",
       "      <th>1</th>\n",
       "      <td>LP001003</td>\n",
       "      <td>Male</td>\n",
       "      <td>Yes</td>\n",
       "      <td>1</td>\n",
       "      <td>Graduate</td>\n",
       "      <td>No</td>\n",
       "      <td>4583</td>\n",
       "      <td>1508.0</td>\n",
       "      <td>128.0</td>\n",
       "      <td>360.0</td>\n",
       "      <td>1.0</td>\n",
       "      <td>Rural</td>\n",
       "      <td>N</td>\n",
       "    </tr>\n",
       "    <tr>\n",
       "      <th>2</th>\n",
       "      <td>LP001005</td>\n",
       "      <td>Male</td>\n",
       "      <td>Yes</td>\n",
       "      <td>0</td>\n",
       "      <td>Graduate</td>\n",
       "      <td>Yes</td>\n",
       "      <td>3000</td>\n",
       "      <td>0.0</td>\n",
       "      <td>66.0</td>\n",
       "      <td>360.0</td>\n",
       "      <td>1.0</td>\n",
       "      <td>Urban</td>\n",
       "      <td>Y</td>\n",
       "    </tr>\n",
       "    <tr>\n",
       "      <th>3</th>\n",
       "      <td>LP001006</td>\n",
       "      <td>Male</td>\n",
       "      <td>Yes</td>\n",
       "      <td>0</td>\n",
       "      <td>Not Graduate</td>\n",
       "      <td>No</td>\n",
       "      <td>2583</td>\n",
       "      <td>2358.0</td>\n",
       "      <td>120.0</td>\n",
       "      <td>360.0</td>\n",
       "      <td>1.0</td>\n",
       "      <td>Urban</td>\n",
       "      <td>Y</td>\n",
       "    </tr>\n",
       "    <tr>\n",
       "      <th>4</th>\n",
       "      <td>LP001008</td>\n",
       "      <td>Male</td>\n",
       "      <td>No</td>\n",
       "      <td>0</td>\n",
       "      <td>Graduate</td>\n",
       "      <td>No</td>\n",
       "      <td>6000</td>\n",
       "      <td>0.0</td>\n",
       "      <td>141.0</td>\n",
       "      <td>360.0</td>\n",
       "      <td>1.0</td>\n",
       "      <td>Urban</td>\n",
       "      <td>Y</td>\n",
       "    </tr>\n",
       "  </tbody>\n",
       "</table>\n",
       "</div>"
      ],
      "text/plain": [
       "    Loan_ID Gender Married Dependents     Education Self_Employed   \n",
       "0  LP001002   Male      No          0      Graduate            No  \\\n",
       "1  LP001003   Male     Yes          1      Graduate            No   \n",
       "2  LP001005   Male     Yes          0      Graduate           Yes   \n",
       "3  LP001006   Male     Yes          0  Not Graduate            No   \n",
       "4  LP001008   Male      No          0      Graduate            No   \n",
       "\n",
       "   ApplicantIncome  CoapplicantIncome  LoanAmount  Loan_Amount_Term   \n",
       "0             5849                0.0         NaN             360.0  \\\n",
       "1             4583             1508.0       128.0             360.0   \n",
       "2             3000                0.0        66.0             360.0   \n",
       "3             2583             2358.0       120.0             360.0   \n",
       "4             6000                0.0       141.0             360.0   \n",
       "\n",
       "   Credit_History Property_Area Loan_Status  \n",
       "0             1.0         Urban           Y  \n",
       "1             1.0         Rural           N  \n",
       "2             1.0         Urban           Y  \n",
       "3             1.0         Urban           Y  \n",
       "4             1.0         Urban           Y  "
      ]
     },
     "execution_count": 2,
     "metadata": {},
     "output_type": "execute_result"
    }
   ],
   "source": [
    "# URL of the dataset\n",
    "url = \"https://raw.githubusercontent.com/prasertcbs/basic-dataset/master/Loan-Approval-Prediction.csv\"\n",
    "\n",
    "# Location where you want to store the dataset\n",
    "output_file = \"Loan-Approval-Prediction.csv\" \n",
    "\n",
    "# Download the file from `url` and save it locally under `output_file`:\n",
    "urllib.request.urlretrieve(url, output_file)\n",
    "\n",
    "# Read the CSV file into a pandas DataFrame\n",
    "df = pd.read_csv(output_file)\n",
    "\n",
    "# Display the DataFrame\n",
    "df.head()"
   ]
  },
  {
   "cell_type": "code",
   "execution_count": 3,
   "id": "c3b6e273",
   "metadata": {},
   "outputs": [
    {
     "name": "stdout",
     "output_type": "stream",
     "text": [
      "Gender\n",
      "['Male' 'Female' nan]\n",
      "\n",
      "\n",
      "Married\n",
      "['No' 'Yes' nan]\n",
      "\n",
      "\n",
      "Dependents\n",
      "['0' '1' '2' '3+' nan]\n",
      "\n",
      "\n",
      "Education\n",
      "['Graduate' 'Not Graduate']\n",
      "\n",
      "\n",
      "Self_Employed\n",
      "['No' 'Yes' nan]\n",
      "\n",
      "\n",
      "Property_Area\n",
      "['Urban' 'Rural' 'Semiurban']\n",
      "\n",
      "\n",
      "Loan_Status\n",
      "['Y' 'N']\n",
      "\n",
      "\n"
     ]
    }
   ],
   "source": [
    "# Select only the categorical columns\n",
    "categorical_columns = df.select_dtypes(include=['object']).columns\n",
    "\n",
    "# Remove 'Loan_ID' from the list\n",
    "categorical_columns = categorical_columns.drop('Loan_ID')\n",
    "\n",
    "# Loop over each categorical column\n",
    "for col in categorical_columns:\n",
    "    # Print the column name\n",
    "    print(col)\n",
    "    \n",
    "    # Print the unique values in this column\n",
    "    print(df[col].unique())\n",
    "    print(\"\\n\")  # Add a newline for readability"
   ]
  },
  {
   "cell_type": "markdown",
   "id": "5cc6eaa1",
   "metadata": {},
   "source": [
    "It is important to see the unique values from our categorical data. \n",
    "\n",
    "- Gender: This column has two unique values ('Male', 'Female') and missing values (represented by nan in Python).\n",
    "- Married: This column has two unique values ('No', 'Yes') and missing values.\n",
    "- Dependents: This column seems to represent the number of dependents for each individual. It has four unique values ('0', '1', '2', '3+') and missing values. The '3+' value may represent three or more dependents.\n",
    "- Education: This column has two unique values ('Graduate', 'Not Graduate'), which presumably represent whether the individual has graduated from an educational institution.\n",
    "- Self_Employed: This column has two unique values ('No', 'Yes') and missing values, indicating whether the individual is self-employed.\n",
    "- Property_Area: This column has three unique values ('Urban', 'Rural', 'Semiurban'), representing the type of area where the property is located.\n",
    "- Loan_Status: This is presumably the target variable for our machine learning model. It has two unique values ('Y', 'N'), representing whether a loan was approved ('Y') or not ('N')."
   ]
  },
  {
   "cell_type": "markdown",
   "id": "32c416a8",
   "metadata": {},
   "source": [
    "### Data exploration\n",
    "\n",
    "We will do some exploration to find patterns in our data"
   ]
  },
  {
   "cell_type": "code",
   "execution_count": 4,
   "id": "3febe38e",
   "metadata": {},
   "outputs": [
    {
     "name": "stdout",
     "output_type": "stream",
     "text": [
      "Percentage of rejections for Graduate: 72.92%\n",
      "Percentage of rejections for Not Graduate: 27.08%\n"
     ]
    }
   ],
   "source": [
    "# Filter the dataset for rejected loan applications\n",
    "rejected_loans = df[df['Loan_Status'] == 'N']\n",
    "\n",
    "# Calculate the total number of rejected loans\n",
    "total_rejections = len(rejected_loans)\n",
    "\n",
    "# Group the rejected loans by education and count the number of rejections for each category\n",
    "rejections_by_education = rejected_loans.groupby('Education').size()\n",
    "\n",
    "# Calculate the percentage of rejections for each education category\n",
    "percentage_rejections_by_education = (rejections_by_education / total_rejections) * 100\n",
    "\n",
    "# Print the results\n",
    "for education, percentage in percentage_rejections_by_education.items():\n",
    "    print(\"Percentage of rejections for {}: {:.2f}%\".format(education, percentage))"
   ]
  },
  {
   "cell_type": "code",
   "execution_count": 5,
   "id": "d5ea4ecf",
   "metadata": {},
   "outputs": [
    {
     "data": {
      "image/png": "[encoded data removed]",
      "text/plain": [
       "<Figure size 640x480 with 1 Axes>"
      ]
     },
     "metadata": {},
     "output_type": "display_data"
    }
   ],
   "source": [
    "# Filter the dataset for approved and rejected loan applications\n",
    "approved_applications = df[df['Loan_Status'] == 'Y']\n",
    "rejected_applications = df[df['Loan_Status'] == 'N']\n",
    "\n",
    "# Calculate the percentage of rejected applications among the employed\n",
    "employed_rejected = rejected_applications[rejected_applications['Self_Employed'] == 'No']\n",
    "percentage_employed_rejected = (len(employed_rejected) / len(rejected_applications)) * 100\n",
    "\n",
    "# Calculate the percentage of rejected applications among the unemployed\n",
    "unemployed_rejected = rejected_applications[rejected_applications['Self_Employed'] == 'Yes']\n",
    "percentage_unemployed_rejected = (len(unemployed_rejected) / len(rejected_applications)) * 100\n",
    "\n",
    "# Plot the results\n",
    "labels = ['Employed', 'Unemployed']\n",
    "percentages = [percentage_employed_rejected, percentage_unemployed_rejected]\n",
    "\n",
    "plt.bar(labels, percentages)\n",
    "plt.ylabel('Percentage')\n",
    "plt.title('Percentage of Rejected Loans among Employed and Unemployed Applicants')\n",
    "\n",
    "# Add the percentages as text labels on the bars\n",
    "for i, perc in enumerate(percentages):\n",
    "    plt.text(i, perc, f'{perc:.2f}%', ha='center', va='bottom')\n",
    "\n",
    "plt.show()"
   ]
  },
  {
   "cell_type": "markdown",
   "id": "82acc038",
   "metadata": {},
   "source": [
    "#### Loan applications per gender"
   ]
  },
  {
   "cell_type": "code",
   "execution_count": 6,
   "id": "d1525b9c",
   "metadata": {},
   "outputs": [
    {
     "name": "stdout",
     "output_type": "stream",
     "text": [
      "Percentage of loans made by women: 18.24%\n",
      "Percentage of loans made by men: 79.64%\n"
     ]
    }
   ],
   "source": [
    "# Calculate the total number of loans\n",
    "total_loans = len(df)\n",
    "\n",
    "# Filter the loans made by women\n",
    "loans_women = df[df['Gender'] == 'Female']\n",
    "num_loans_women = len(loans_women)\n",
    "percentage_loans_women = (num_loans_women / total_loans) * 100\n",
    "\n",
    "# Filter the loans made by men\n",
    "loans_men = df[df['Gender'] == 'Male']\n",
    "num_loans_men = len(loans_men)\n",
    "percentage_loans_men = (num_loans_men / total_loans) * 100\n",
    "\n",
    "# Print the results\n",
    "print(\"Percentage of loans made by women: {:.2f}%\".format(percentage_loans_women))\n",
    "print(\"Percentage of loans made by men: {:.2f}%\".format(percentage_loans_men))"
   ]
  },
  {
   "cell_type": "markdown",
   "id": "72a157c1",
   "metadata": {},
   "source": [
    "#### Rejected loans per gender"
   ]
  },
  {
   "cell_type": "code",
   "execution_count": 7,
   "id": "cd1bbac4",
   "metadata": {},
   "outputs": [
    {
     "name": "stdout",
     "output_type": "stream",
     "text": [
      "Percentage of rejected loans for women: 19.27%\n",
      "Percentage of rejected loans for men: 78.12%\n"
     ]
    }
   ],
   "source": [
    "# Filter the dataset for rejected loan applications\n",
    "rejected_loans = df[df['Loan_Status'] == 'N']\n",
    "\n",
    "# Calculate the total number of rejected loans\n",
    "total_rejected = len(rejected_loans)\n",
    "\n",
    "# Filter the rejected loans for women\n",
    "rejected_women = rejected_loans[rejected_loans['Gender'] == 'Female']\n",
    "num_rejected_women = len(rejected_women)\n",
    "percentage_rejected_women = (num_rejected_women / total_rejected) * 100\n",
    "\n",
    "# Filter the rejected loans for men\n",
    "rejected_men = rejected_loans[rejected_loans['Gender'] == 'Male']\n",
    "num_rejected_men = len(rejected_men)\n",
    "percentage_rejected_men = (num_rejected_men / total_rejected) * 100\n",
    "\n",
    "# Print the results\n",
    "print(\"Percentage of rejected loans for women: {:.2f}%\".format(percentage_rejected_women))\n",
    "print(\"Percentage of rejected loans for men: {:.2f}%\".format(percentage_rejected_men))"
   ]
  },
  {
   "cell_type": "code",
   "execution_count": 8,
   "id": "5ea00b35",
   "metadata": {},
   "outputs": [],
   "source": [
    "# Create a copy of the dataset and drop missing values\n",
    "df_cleaned = df.dropna().copy()\n",
    "\n",
    "# Drop the 'Loan_ID' column\n",
    "df_cleaned = df_cleaned.drop('Loan_ID', axis=1)\n",
    "\n",
    "# Convert categorical variables to numeric variables using one-hot encoding\n",
    "categorical_columns = ['Gender', 'Married', 'Dependents', 'Education', 'Self_Employed', 'Property_Area']\n",
    "df_cleaned_encoded = pd.get_dummies(df_cleaned, columns=categorical_columns, drop_first=True)\n",
    "\n",
    "# Normalize/Standardize numerical variables\n",
    "scaler = StandardScaler()\n",
    "numerical_columns = ['ApplicantIncome', 'CoapplicantIncome', 'LoanAmount', 'Loan_Amount_Term']\n",
    "df_cleaned_encoded[numerical_columns] = scaler.fit_transform(df_cleaned_encoded[numerical_columns])\n",
    "\n",
    "# Split the data into features and target variable\n",
    "X = df_cleaned_encoded.drop('Loan_Status', axis=1)  # Exclude the target variable 'Loan_Status'\n",
    "y = df_cleaned_encoded['Loan_Status']  # Use the target variable 'Loan_Status'\n",
    "\n",
    "# Split the data into a training set and a test set\n",
    "X_train, X_test, y_train, y_test = train_test_split(X, y, test_size=0.2, random_state=42)"
   ]
  },
  {
   "cell_type": "code",
   "execution_count": 9,
   "id": "c8ba8b44",
   "metadata": {},
   "outputs": [
    {
     "data": {
      "text/html": [
       "<div>\n",
       "<style scoped>\n",
       "    .dataframe tbody tr th:only-of-type {\n",
       "        vertical-align: middle;\n",
       "    }\n",
       "\n",
       "    .dataframe tbody tr th {\n",
       "        vertical-align: top;\n",
       "    }\n",
       "\n",
       "    .dataframe thead th {\n",
       "        text-align: right;\n",
       "    }\n",
       "</style>\n",
       "<table border=\"1\" class=\"dataframe\">\n",
       "  <thead>\n",
       "    <tr style=\"text-align: right;\">\n",
       "      <th></th>\n",
       "      <th>ApplicantIncome</th>\n",
       "      <th>CoapplicantIncome</th>\n",
       "      <th>LoanAmount</th>\n",
       "      <th>Loan_Amount_Term</th>\n",
       "      <th>Credit_History</th>\n",
       "      <th>Loan_Status</th>\n",
       "      <th>Gender_Male</th>\n",
       "      <th>Married_Yes</th>\n",
       "      <th>Dependents_1</th>\n",
       "      <th>Dependents_2</th>\n",
       "      <th>Dependents_3+</th>\n",
       "      <th>Education_Not Graduate</th>\n",
       "      <th>Self_Employed_Yes</th>\n",
       "      <th>Property_Area_Semiurban</th>\n",
       "      <th>Property_Area_Urban</th>\n",
       "    </tr>\n",
       "  </thead>\n",
       "  <tbody>\n",
       "    <tr>\n",
       "      <th>1</th>\n",
       "      <td>-0.137970</td>\n",
       "      <td>-0.027952</td>\n",
       "      <td>-0.208089</td>\n",
       "      <td>0.275542</td>\n",
       "      <td>1.0</td>\n",
       "      <td>N</td>\n",
       "      <td>True</td>\n",
       "      <td>True</td>\n",
       "      <td>True</td>\n",
       "      <td>False</td>\n",
       "      <td>False</td>\n",
       "      <td>False</td>\n",
       "      <td>False</td>\n",
       "      <td>False</td>\n",
       "      <td>False</td>\n",
       "    </tr>\n",
       "    <tr>\n",
       "      <th>2</th>\n",
       "      <td>-0.417536</td>\n",
       "      <td>-0.604633</td>\n",
       "      <td>-0.979001</td>\n",
       "      <td>0.275542</td>\n",
       "      <td>1.0</td>\n",
       "      <td>Y</td>\n",
       "      <td>True</td>\n",
       "      <td>True</td>\n",
       "      <td>False</td>\n",
       "      <td>False</td>\n",
       "      <td>False</td>\n",
       "      <td>False</td>\n",
       "      <td>True</td>\n",
       "      <td>False</td>\n",
       "      <td>True</td>\n",
       "    </tr>\n",
       "    <tr>\n",
       "      <th>3</th>\n",
       "      <td>-0.491180</td>\n",
       "      <td>0.297100</td>\n",
       "      <td>-0.307562</td>\n",
       "      <td>0.275542</td>\n",
       "      <td>1.0</td>\n",
       "      <td>Y</td>\n",
       "      <td>True</td>\n",
       "      <td>True</td>\n",
       "      <td>False</td>\n",
       "      <td>False</td>\n",
       "      <td>False</td>\n",
       "      <td>True</td>\n",
       "      <td>False</td>\n",
       "      <td>False</td>\n",
       "      <td>True</td>\n",
       "    </tr>\n",
       "    <tr>\n",
       "      <th>4</th>\n",
       "      <td>0.112280</td>\n",
       "      <td>-0.604633</td>\n",
       "      <td>-0.046446</td>\n",
       "      <td>0.275542</td>\n",
       "      <td>1.0</td>\n",
       "      <td>Y</td>\n",
       "      <td>True</td>\n",
       "      <td>False</td>\n",
       "      <td>False</td>\n",
       "      <td>False</td>\n",
       "      <td>False</td>\n",
       "      <td>False</td>\n",
       "      <td>False</td>\n",
       "      <td>False</td>\n",
       "      <td>True</td>\n",
       "    </tr>\n",
       "    <tr>\n",
       "      <th>5</th>\n",
       "      <td>0.009319</td>\n",
       "      <td>0.999978</td>\n",
       "      <td>1.520245</td>\n",
       "      <td>0.275542</td>\n",
       "      <td>1.0</td>\n",
       "      <td>Y</td>\n",
       "      <td>True</td>\n",
       "      <td>True</td>\n",
       "      <td>False</td>\n",
       "      <td>True</td>\n",
       "      <td>False</td>\n",
       "      <td>False</td>\n",
       "      <td>True</td>\n",
       "      <td>False</td>\n",
       "      <td>True</td>\n",
       "    </tr>\n",
       "    <tr>\n",
       "      <th>...</th>\n",
       "      <td>...</td>\n",
       "      <td>...</td>\n",
       "      <td>...</td>\n",
       "      <td>...</td>\n",
       "      <td>...</td>\n",
       "      <td>...</td>\n",
       "      <td>...</td>\n",
       "      <td>...</td>\n",
       "      <td>...</td>\n",
       "      <td>...</td>\n",
       "      <td>...</td>\n",
       "      <td>...</td>\n",
       "      <td>...</td>\n",
       "      <td>...</td>\n",
       "      <td>...</td>\n",
       "    </tr>\n",
       "    <tr>\n",
       "      <th>609</th>\n",
       "      <td>-0.435196</td>\n",
       "      <td>-0.604633</td>\n",
       "      <td>-0.916831</td>\n",
       "      <td>0.275542</td>\n",
       "      <td>1.0</td>\n",
       "      <td>Y</td>\n",
       "      <td>False</td>\n",
       "      <td>False</td>\n",
       "      <td>False</td>\n",
       "      <td>False</td>\n",
       "      <td>False</td>\n",
       "      <td>False</td>\n",
       "      <td>False</td>\n",
       "      <td>False</td>\n",
       "      <td>False</td>\n",
       "    </tr>\n",
       "    <tr>\n",
       "      <th>610</th>\n",
       "      <td>-0.222210</td>\n",
       "      <td>-0.604633</td>\n",
       "      <td>-1.302286</td>\n",
       "      <td>-2.487549</td>\n",
       "      <td>1.0</td>\n",
       "      <td>Y</td>\n",
       "      <td>True</td>\n",
       "      <td>True</td>\n",
       "      <td>False</td>\n",
       "      <td>False</td>\n",
       "      <td>True</td>\n",
       "      <td>False</td>\n",
       "      <td>False</td>\n",
       "      <td>False</td>\n",
       "      <td>False</td>\n",
       "    </tr>\n",
       "    <tr>\n",
       "      <th>611</th>\n",
       "      <td>0.478206</td>\n",
       "      <td>-0.512854</td>\n",
       "      <td>1.346168</td>\n",
       "      <td>0.275542</td>\n",
       "      <td>1.0</td>\n",
       "      <td>Y</td>\n",
       "      <td>True</td>\n",
       "      <td>True</td>\n",
       "      <td>True</td>\n",
       "      <td>False</td>\n",
       "      <td>False</td>\n",
       "      <td>False</td>\n",
       "      <td>False</td>\n",
       "      <td>False</td>\n",
       "      <td>True</td>\n",
       "    </tr>\n",
       "    <tr>\n",
       "      <th>612</th>\n",
       "      <td>0.391846</td>\n",
       "      <td>-0.604633</td>\n",
       "      <td>0.525520</td>\n",
       "      <td>0.275542</td>\n",
       "      <td>1.0</td>\n",
       "      <td>Y</td>\n",
       "      <td>True</td>\n",
       "      <td>True</td>\n",
       "      <td>False</td>\n",
       "      <td>True</td>\n",
       "      <td>False</td>\n",
       "      <td>False</td>\n",
       "      <td>False</td>\n",
       "      <td>False</td>\n",
       "      <td>True</td>\n",
       "    </tr>\n",
       "    <tr>\n",
       "      <th>613</th>\n",
       "      <td>-0.137970</td>\n",
       "      <td>-0.604633</td>\n",
       "      <td>-0.145919</td>\n",
       "      <td>0.275542</td>\n",
       "      <td>0.0</td>\n",
       "      <td>N</td>\n",
       "      <td>False</td>\n",
       "      <td>False</td>\n",
       "      <td>False</td>\n",
       "      <td>False</td>\n",
       "      <td>False</td>\n",
       "      <td>False</td>\n",
       "      <td>True</td>\n",
       "      <td>True</td>\n",
       "      <td>False</td>\n",
       "    </tr>\n",
       "  </tbody>\n",
       "</table>\n",
       "<p>480 rows × 15 columns</p>\n",
       "</div>"
      ],
      "text/plain": [
       "     ApplicantIncome  CoapplicantIncome  LoanAmount  Loan_Amount_Term   \n",
       "1          -0.137970          -0.027952   -0.208089          0.275542  \\\n",
       "2          -0.417536          -0.604633   -0.979001          0.275542   \n",
       "3          -0.491180           0.297100   -0.307562          0.275542   \n",
       "4           0.112280          -0.604633   -0.046446          0.275542   \n",
       "5           0.009319           0.999978    1.520245          0.275542   \n",
       "..               ...                ...         ...               ...   \n",
       "609        -0.435196          -0.604633   -0.916831          0.275542   \n",
       "610        -0.222210          -0.604633   -1.302286         -2.487549   \n",
       "611         0.478206          -0.512854    1.346168          0.275542   \n",
       "612         0.391846          -0.604633    0.525520          0.275542   \n",
       "613        -0.137970          -0.604633   -0.145919          0.275542   \n",
       "\n",
       "     Credit_History Loan_Status  Gender_Male  Married_Yes  Dependents_1   \n",
       "1               1.0           N         True         True          True  \\\n",
       "2               1.0           Y         True         True         False   \n",
       "3               1.0           Y         True         True         False   \n",
       "4               1.0           Y         True        False         False   \n",
       "5               1.0           Y         True         True         False   \n",
       "..              ...         ...          ...          ...           ...   \n",
       "609             1.0           Y        False        False         False   \n",
       "610             1.0           Y         True         True         False   \n",
       "611             1.0           Y         True         True          True   \n",
       "612             1.0           Y         True         True         False   \n",
       "613             0.0           N        False        False         False   \n",
       "\n",
       "     Dependents_2  Dependents_3+  Education_Not Graduate  Self_Employed_Yes   \n",
       "1           False          False                   False              False  \\\n",
       "2           False          False                   False               True   \n",
       "3           False          False                    True              False   \n",
       "4           False          False                   False              False   \n",
       "5            True          False                   False               True   \n",
       "..            ...            ...                     ...                ...   \n",
       "609         False          False                   False              False   \n",
       "610         False           True                   False              False   \n",
       "611         False          False                   False              False   \n",
       "612          True          False                   False              False   \n",
       "613         False          False                   False               True   \n",
       "\n",
       "     Property_Area_Semiurban  Property_Area_Urban  \n",
       "1                      False                False  \n",
       "2                      False                 True  \n",
       "3                      False                 True  \n",
       "4                      False                 True  \n",
       "5                      False                 True  \n",
       "..                       ...                  ...  \n",
       "609                    False                False  \n",
       "610                    False                False  \n",
       "611                    False                 True  \n",
       "612                    False                 True  \n",
       "613                     True                False  \n",
       "\n",
       "[480 rows x 15 columns]"
      ]
     },
     "execution_count": 9,
     "metadata": {},
     "output_type": "execute_result"
    }
   ],
   "source": [
    "df_cleaned_encoded"
   ]
  },
  {
   "cell_type": "markdown",
   "id": "c9c060a9",
   "metadata": {},
   "source": [
    "### Step 2: Training and Evaluating the Models\n",
    "Next, we'll train two models, one using the K-Nearest Neighbors (KNN) algorithm and the other using a decision tree."
   ]
  },
  {
   "cell_type": "code",
   "execution_count": 10,
   "id": "214b3622",
   "metadata": {},
   "outputs": [],
   "source": [
    "# Create a KNN classifier and train it\n",
    "knn = KNeighborsClassifier()\n",
    "knn.fit(X_train, y_train)\n",
    "\n",
    "# Make predictions with the KNN classifier\n",
    "knn_predictions = knn.predict(X_test)"
   ]
  },
  {
   "cell_type": "code",
   "execution_count": 11,
   "id": "e9af2341",
   "metadata": {},
   "outputs": [
    {
     "data": {
      "text/html": [
       "<style>#sk-container-id-1 {color: black;background-color: white;}#sk-container-id-1 pre{padding: 0;}#sk-container-id-1 div.sk-toggleable {background-color: white;}#sk-container-id-1 label.sk-toggleable__label {cursor: pointer;display: block;width: 100%;margin-bottom: 0;padding: 0.3em;box-sizing: border-box;text-align: center;}#sk-container-id-1 label.sk-toggleable__label-arrow:before {content: \"▸\";float: left;margin-right: 0.25em;color: #696969;}#sk-container-id-1 label.sk-toggleable__label-arrow:hover:before {color: black;}#sk-container-id-1 div.sk-estimator:hover label.sk-toggleable__label-arrow:before {color: black;}#sk-container-id-1 div.sk-toggleable__content {max-height: 0;max-width: 0;overflow: hidden;text-align: left;background-color: #f0f8ff;}#sk-container-id-1 div.sk-toggleable__content pre {margin: 0.2em;color: black;border-radius: 0.25em;background-color: #f0f8ff;}#sk-container-id-1 input.sk-toggleable__control:checked~div.sk-toggleable__content {max-height: 200px;max-width: 100%;overflow: auto;}#sk-container-id-1 input.sk-toggleable__control:checked~label.sk-toggleable__label-arrow:before {content: \"▾\";}#sk-container-id-1 div.sk-estimator input.sk-toggleable__control:checked~label.sk-toggleable__label {background-color: #d4ebff;}#sk-container-id-1 div.sk-label input.sk-toggleable__control:checked~label.sk-toggleable__label {background-color: #d4ebff;}#sk-container-id-1 input.sk-hidden--visually {border: 0;clip: rect(1px 1px 1px 1px);clip: rect(1px, 1px, 1px, 1px);height: 1px;margin: -1px;overflow: hidden;padding: 0;position: absolute;width: 1px;}#sk-container-id-1 div.sk-estimator {font-family: monospace;background-color: #f0f8ff;border: 1px dotted black;border-radius: 0.25em;box-sizing: border-box;margin-bottom: 0.5em;}#sk-container-id-1 div.sk-estimator:hover {background-color: #d4ebff;}#sk-container-id-1 div.sk-parallel-item::after {content: \"\";width: 100%;border-bottom: 1px solid gray;flex-grow: 1;}#sk-container-id-1 div.sk-label:hover label.sk-toggleable__label {background-color: #d4ebff;}#sk-container-id-1 div.sk-serial::before {content: \"\";position: absolute;border-left: 1px solid gray;box-sizing: border-box;top: 0;bottom: 0;left: 50%;z-index: 0;}#sk-container-id-1 div.sk-serial {display: flex;flex-direction: column;align-items: center;background-color: white;padding-right: 0.2em;padding-left: 0.2em;position: relative;}#sk-container-id-1 div.sk-item {position: relative;z-index: 1;}#sk-container-id-1 div.sk-parallel {display: flex;align-items: stretch;justify-content: center;background-color: white;position: relative;}#sk-container-id-1 div.sk-item::before, #sk-container-id-1 div.sk-parallel-item::before {content: \"\";position: absolute;border-left: 1px solid gray;box-sizing: border-box;top: 0;bottom: 0;left: 50%;z-index: -1;}#sk-container-id-1 div.sk-parallel-item {display: flex;flex-direction: column;z-index: 1;position: relative;background-color: white;}#sk-container-id-1 div.sk-parallel-item:first-child::after {align-self: flex-end;width: 50%;}#sk-container-id-1 div.sk-parallel-item:last-child::after {align-self: flex-start;width: 50%;}#sk-container-id-1 div.sk-parallel-item:only-child::after {width: 0;}#sk-container-id-1 div.sk-dashed-wrapped {border: 1px dashed gray;margin: 0 0.4em 0.5em 0.4em;box-sizing: border-box;padding-bottom: 0.4em;background-color: white;}#sk-container-id-1 div.sk-label label {font-family: monospace;font-weight: bold;display: inline-block;line-height: 1.2em;}#sk-container-id-1 div.sk-label-container {text-align: center;}#sk-container-id-1 div.sk-container {/* jupyter's `normalize.less` sets `[hidden] { display: none; }` but bootstrap.min.css set `[hidden] { display: none !important; }` so we also need the `!important` here to be able to override the default hidden behavior on the sphinx rendered scikit-learn.org. See: https://github.com/scikit-learn/scikit-learn/issues/21755 */display: inline-block !important;position: relative;}#sk-container-id-1 div.sk-text-repr-fallback {display: none;}</style><div id=\"sk-container-id-1\" class=\"sk-top-container\"><div class=\"sk-text-repr-fallback\"><pre>KNeighborsClassifier()</pre><b>In a Jupyter environment, please rerun this cell to show the HTML representation or trust the notebook. <br />On GitHub, the HTML representation is unable to render, please try loading this page with nbviewer.org.</b></div><div class=\"sk-container\" hidden><div class=\"sk-item\"><div class=\"sk-estimator sk-toggleable\"><input class=\"sk-toggleable__control sk-hidden--visually\" id=\"sk-estimator-id-1\" type=\"checkbox\" checked><label for=\"sk-estimator-id-1\" class=\"sk-toggleable__label sk-toggleable__label-arrow\">KNeighborsClassifier</label><div class=\"sk-toggleable__content\"><pre>KNeighborsClassifier()</pre></div></div></div></div></div>"
      ],
      "text/plain": [
       "KNeighborsClassifier()"
      ]
     },
     "execution_count": 11,
     "metadata": {},
     "output_type": "execute_result"
    }
   ],
   "source": [
    "# Train a KNN model\n",
    "knn_model = KNeighborsClassifier(n_neighbors=5)\n",
    "knn_model = knn_model.fit(X_train, y_train)\n",
    "knn_model"
   ]
  },
  {
   "cell_type": "code",
   "execution_count": 12,
   "id": "16319a83",
   "metadata": {},
   "outputs": [
    {
     "data": {
      "text/html": [
       "<style>#sk-container-id-2 {color: black;background-color: white;}#sk-container-id-2 pre{padding: 0;}#sk-container-id-2 div.sk-toggleable {background-color: white;}#sk-container-id-2 label.sk-toggleable__label {cursor: pointer;display: block;width: 100%;margin-bottom: 0;padding: 0.3em;box-sizing: border-box;text-align: center;}#sk-container-id-2 label.sk-toggleable__label-arrow:before {content: \"▸\";float: left;margin-right: 0.25em;color: #696969;}#sk-container-id-2 label.sk-toggleable__label-arrow:hover:before {color: black;}#sk-container-id-2 div.sk-estimator:hover label.sk-toggleable__label-arrow:before {color: black;}#sk-container-id-2 div.sk-toggleable__content {max-height: 0;max-width: 0;overflow: hidden;text-align: left;background-color: #f0f8ff;}#sk-container-id-2 div.sk-toggleable__content pre {margin: 0.2em;color: black;border-radius: 0.25em;background-color: #f0f8ff;}#sk-container-id-2 input.sk-toggleable__control:checked~div.sk-toggleable__content {max-height: 200px;max-width: 100%;overflow: auto;}#sk-container-id-2 input.sk-toggleable__control:checked~label.sk-toggleable__label-arrow:before {content: \"▾\";}#sk-container-id-2 div.sk-estimator input.sk-toggleable__control:checked~label.sk-toggleable__label {background-color: #d4ebff;}#sk-container-id-2 div.sk-label input.sk-toggleable__control:checked~label.sk-toggleable__label {background-color: #d4ebff;}#sk-container-id-2 input.sk-hidden--visually {border: 0;clip: rect(1px 1px 1px 1px);clip: rect(1px, 1px, 1px, 1px);height: 1px;margin: -1px;overflow: hidden;padding: 0;position: absolute;width: 1px;}#sk-container-id-2 div.sk-estimator {font-family: monospace;background-color: #f0f8ff;border: 1px dotted black;border-radius: 0.25em;box-sizing: border-box;margin-bottom: 0.5em;}#sk-container-id-2 div.sk-estimator:hover {background-color: #d4ebff;}#sk-container-id-2 div.sk-parallel-item::after {content: \"\";width: 100%;border-bottom: 1px solid gray;flex-grow: 1;}#sk-container-id-2 div.sk-label:hover label.sk-toggleable__label {background-color: #d4ebff;}#sk-container-id-2 div.sk-serial::before {content: \"\";position: absolute;border-left: 1px solid gray;box-sizing: border-box;top: 0;bottom: 0;left: 50%;z-index: 0;}#sk-container-id-2 div.sk-serial {display: flex;flex-direction: column;align-items: center;background-color: white;padding-right: 0.2em;padding-left: 0.2em;position: relative;}#sk-container-id-2 div.sk-item {position: relative;z-index: 1;}#sk-container-id-2 div.sk-parallel {display: flex;align-items: stretch;justify-content: center;background-color: white;position: relative;}#sk-container-id-2 div.sk-item::before, #sk-container-id-2 div.sk-parallel-item::before {content: \"\";position: absolute;border-left: 1px solid gray;box-sizing: border-box;top: 0;bottom: 0;left: 50%;z-index: -1;}#sk-container-id-2 div.sk-parallel-item {display: flex;flex-direction: column;z-index: 1;position: relative;background-color: white;}#sk-container-id-2 div.sk-parallel-item:first-child::after {align-self: flex-end;width: 50%;}#sk-container-id-2 div.sk-parallel-item:last-child::after {align-self: flex-start;width: 50%;}#sk-container-id-2 div.sk-parallel-item:only-child::after {width: 0;}#sk-container-id-2 div.sk-dashed-wrapped {border: 1px dashed gray;margin: 0 0.4em 0.5em 0.4em;box-sizing: border-box;padding-bottom: 0.4em;background-color: white;}#sk-container-id-2 div.sk-label label {font-family: monospace;font-weight: bold;display: inline-block;line-height: 1.2em;}#sk-container-id-2 div.sk-label-container {text-align: center;}#sk-container-id-2 div.sk-container {/* jupyter's `normalize.less` sets `[hidden] { display: none; }` but bootstrap.min.css set `[hidden] { display: none !important; }` so we also need the `!important` here to be able to override the default hidden behavior on the sphinx rendered scikit-learn.org. See: https://github.com/scikit-learn/scikit-learn/issues/21755 */display: inline-block !important;position: relative;}#sk-container-id-2 div.sk-text-repr-fallback {display: none;}</style><div id=\"sk-container-id-2\" class=\"sk-top-container\"><div class=\"sk-text-repr-fallback\"><pre>DecisionTreeClassifier()</pre><b>In a Jupyter environment, please rerun this cell to show the HTML representation or trust the notebook. <br />On GitHub, the HTML representation is unable to render, please try loading this page with nbviewer.org.</b></div><div class=\"sk-container\" hidden><div class=\"sk-item\"><div class=\"sk-estimator sk-toggleable\"><input class=\"sk-toggleable__control sk-hidden--visually\" id=\"sk-estimator-id-2\" type=\"checkbox\" checked><label for=\"sk-estimator-id-2\" class=\"sk-toggleable__label sk-toggleable__label-arrow\">DecisionTreeClassifier</label><div class=\"sk-toggleable__content\"><pre>DecisionTreeClassifier()</pre></div></div></div></div></div>"
      ],
      "text/plain": [
       "DecisionTreeClassifier()"
      ]
     },
     "execution_count": 12,
     "metadata": {},
     "output_type": "execute_result"
    }
   ],
   "source": [
    "# Train a Decision Tree model\n",
    "dt_model = DecisionTreeClassifier()\n",
    "dt_model = dt_model.fit(X_train, y_train)\n",
    "dt_model"
   ]
  },
  {
   "cell_type": "code",
   "execution_count": 15,
   "id": "5c7b3e81",
   "metadata": {},
   "outputs": [
    {
     "name": "stdout",
     "output_type": "stream",
     "text": [
      "Confusion Matrix - KNN Model:\n",
      "[[ 7 21]\n",
      " [ 1 67]]\n",
      "Classification Report - KNN Model:\n",
      "              precision    recall  f1-score   support\n",
      "\n",
      "           N       0.88      0.25      0.39        28\n",
      "           Y       0.76      0.99      0.86        68\n",
      "\n",
      "    accuracy                           0.77        96\n",
      "   macro avg       0.82      0.62      0.62        96\n",
      "weighted avg       0.79      0.77      0.72        96\n",
      "\n",
      "Confusion Matrix - Decision Tree Model:\n",
      "[[16 12]\n",
      " [13 55]]\n",
      "Classification Report - Decision Tree Model:\n",
      "              precision    recall  f1-score   support\n",
      "\n",
      "           N       0.55      0.57      0.56        28\n",
      "           Y       0.82      0.81      0.81        68\n",
      "\n",
      "    accuracy                           0.74        96\n",
      "   macro avg       0.69      0.69      0.69        96\n",
      "weighted avg       0.74      0.74      0.74        96\n",
      "\n"
     ]
    }
   ],
   "source": [
    "# Predict using the KNN model\n",
    "knn_predictions = knn_model.predict(X_test)\n",
    "\n",
    "# Print the confusion matrix for the KNN model\n",
    "knn_cm = confusion_matrix(y_test, knn_predictions)\n",
    "print(\"Confusion Matrix - KNN Model:\")\n",
    "print(knn_cm)\n",
    "\n",
    "# Print the classification report for the KNN model\n",
    "knn_report = classification_report(y_test, knn_predictions)\n",
    "print(\"Classification Report - KNN Model:\")\n",
    "print(knn_report)\n",
    "\n",
    "# Predict using the Decision Tree model\n",
    "dt_predictions = dt_model.predict(X_test)\n",
    "\n",
    "# Print the confusion matrix for the Decision Tree model\n",
    "dt_cm = confusion_matrix(y_test, dt_predictions)\n",
    "print(\"Confusion Matrix - Decision Tree Model:\")\n",
    "print(dt_cm)\n",
    "\n",
    "# Print the classification report for the Decision Tree model\n",
    "dt_report = classification_report(y_test, dt_predictions)\n",
    "print(\"Classification Report - Decision Tree Model:\")\n",
    "print(dt_report)"
   ]
  },
  {
   "cell_type": "code",
   "execution_count": 16,
   "id": "00d0426f",
   "metadata": {},
   "outputs": [
    {
     "data": {
      "text/plain": [
       "array(['Y', 'Y', 'Y', 'N', 'Y', 'N', 'Y', 'N', 'Y', 'N', 'N', 'Y', 'Y',\n",
       "       'N', 'N', 'Y', 'N', 'N', 'Y', 'N', 'Y', 'Y', 'Y', 'Y', 'Y', 'Y',\n",
       "       'N', 'N', 'Y', 'Y', 'Y', 'Y', 'Y', 'Y', 'N', 'Y', 'Y', 'Y', 'Y',\n",
       "       'N', 'Y', 'Y', 'N', 'Y', 'Y', 'N', 'Y', 'Y', 'Y', 'N', 'Y', 'N',\n",
       "       'N', 'Y', 'Y', 'Y', 'Y', 'N', 'Y', 'Y', 'Y', 'Y', 'Y', 'Y', 'Y',\n",
       "       'Y', 'Y', 'Y', 'Y', 'Y', 'N', 'Y', 'Y', 'Y', 'Y', 'Y', 'Y', 'N',\n",
       "       'Y', 'Y', 'Y', 'Y', 'Y', 'N', 'N', 'N', 'N', 'N', 'N', 'Y', 'N',\n",
       "       'Y', 'Y', 'Y', 'Y', 'Y'], dtype=object)"
      ]
     },
     "execution_count": 16,
     "metadata": {},
     "output_type": "execute_result"
    }
   ],
   "source": [
    "dt_predictions"
   ]
  },
  {
   "cell_type": "markdown",
   "id": "4044e37a",
   "metadata": {},
   "source": [
    "After preprocessing the data and training the models, both KNN and Decision Tree were evaluated using accuracy, precision, recall, and F1 score. The performance of the models can be compared based on these metrics to choose the best one for deployment. In general, the choice between the two models would depend on their performance on the metrics that are most important for the bank. For example, if the bank wants to minimize false negatives (i.e., incorrectly rejecting loans that should have been approved), they should choose the model with the highest recall. If they want to minimize false positives (i.e., incorrectly approving loans that should have been rejected), they should choose the model with the highest precision. The F1 score provides a balance between precision and recall, while the accuracy gives an overall measure of the model's performance.\n",
    "\n"
   ]
  },
  {
   "cell_type": "code",
   "execution_count": 17,
   "id": "03e53e81",
   "metadata": {},
   "outputs": [
    {
     "data": {
      "image/png": "[encoded data removed]",
      "text/plain": [
       "<Figure size 800x600 with 2 Axes>"
      ]
     },
     "metadata": {},
     "output_type": "display_data"
    },
    {
     "data": {
      "image/png": "[encoded data removed]",
      "text/plain": [
       "<Figure size 800x600 with 2 Axes>"
      ]
     },
     "metadata": {},
     "output_type": "display_data"
    }
   ],
   "source": [
    "# Plot the confusion matrix for the KNN model\n",
    "plt.figure(figsize=(8, 6))\n",
    "sns.heatmap(knn_cm, annot=True, cmap=\"Blues\", fmt=\"d\")\n",
    "plt.title(\"Confusion Matrix - KNN Model\")\n",
    "plt.xlabel(\"Predicted\")\n",
    "plt.ylabel(\"Actual\")\n",
    "plt.show()\n",
    "\n",
    "# Plot the confusion matrix for the Decision Tree model\n",
    "plt.figure(figsize=(8, 6))\n",
    "sns.heatmap(dt_cm, annot=True, cmap=\"Blues\", fmt=\"d\")\n",
    "plt.title(\"Confusion Matrix - Decision Tree Model\")\n",
    "plt.xlabel(\"Predicted\")\n",
    "plt.ylabel(\"Actual\")\n",
    "plt.show()"
   ]
  },
  {
   "cell_type": "code",
   "execution_count": 18,
   "id": "5ecb3875",
   "metadata": {},
   "outputs": [],
   "source": [
    "import os\n",
    "\n",
    "# Create the \"models\" directory if it doesn't exist\n",
    "if not os.path.exists(\"models\"):\n",
    "    os.makedirs(\"models\")"
   ]
  },
  {
   "cell_type": "code",
   "execution_count": 19,
   "id": "6cb877f5",
   "metadata": {},
   "outputs": [],
   "source": [
    "import pickle\n",
    "\n",
    "# Save the trained models using pickle\n",
    "with open('models/knn_model.pkl', 'wb') as f:\n",
    "    pickle.dump(knn_model, f)\n",
    "\n",
    "with open('models/decision_tree_model.pkl', 'wb') as f:\n",
    "    pickle.dump(dt_model, f)"
   ]
  },
  {
   "cell_type": "code",
   "execution_count": 20,
   "id": "2167b7f6",
   "metadata": {},
   "outputs": [],
   "source": [
    "# Load the saved models using pickle\n",
    "with open('models/knn_model.pkl', 'rb') as f:\n",
    "    loaded_knn_model = pickle.load(f)\n",
    "\n",
    "with open('models/decision_tree_model.pkl', 'rb') as f:\n",
    "    loaded_dt_model = pickle.load(f)"
   ]
  },
  {
   "cell_type": "markdown",
   "id": "57265f95",
   "metadata": {},
   "source": [
    "### Make predictions\n",
    "With our loaded models we can perform predictions in new data. It would be interesting if we test our model in new dataframes or deploy it with a framework like Flask."
   ]
  },
  {
   "cell_type": "code",
   "execution_count": 21,
   "id": "a90e6131",
   "metadata": {},
   "outputs": [
    {
     "name": "stdout",
     "output_type": "stream",
     "text": [
      "KNN Predictions: ['Y' 'Y' 'Y' 'N' 'Y' 'Y' 'Y' 'Y' 'Y' 'Y' 'Y' 'Y' 'Y' 'Y' 'Y' 'Y' 'N' 'N'\n",
      " 'Y' 'Y' 'Y' 'Y' 'Y' 'Y' 'Y' 'Y' 'Y' 'N' 'Y' 'Y' 'Y' 'Y' 'Y' 'Y' 'Y' 'Y'\n",
      " 'Y' 'Y' 'Y' 'Y' 'Y' 'Y' 'Y' 'Y' 'Y' 'Y' 'Y' 'Y' 'Y' 'N' 'N' 'Y' 'Y' 'Y'\n",
      " 'Y' 'Y' 'Y' 'Y' 'Y' 'Y' 'Y' 'Y' 'Y' 'N' 'Y' 'Y' 'Y' 'Y' 'Y' 'Y' 'Y' 'Y'\n",
      " 'Y' 'Y' 'Y' 'Y' 'Y' 'Y' 'Y' 'Y' 'Y' 'Y' 'Y' 'Y' 'Y' 'Y' 'Y' 'Y' 'Y' 'Y'\n",
      " 'N' 'Y' 'Y' 'Y' 'Y' 'Y']\n",
      "Decision Tree Predictions: ['Y' 'Y' 'Y' 'N' 'Y' 'N' 'Y' 'N' 'Y' 'N' 'N' 'Y' 'Y' 'N' 'N' 'Y' 'N' 'N'\n",
      " 'Y' 'N' 'Y' 'Y' 'Y' 'Y' 'Y' 'Y' 'N' 'N' 'Y' 'Y' 'Y' 'Y' 'Y' 'Y' 'N' 'Y'\n",
      " 'Y' 'Y' 'Y' 'N' 'Y' 'Y' 'N' 'Y' 'Y' 'N' 'Y' 'Y' 'Y' 'N' 'Y' 'N' 'N' 'Y'\n",
      " 'Y' 'Y' 'Y' 'N' 'Y' 'Y' 'Y' 'Y' 'Y' 'Y' 'Y' 'Y' 'Y' 'Y' 'Y' 'Y' 'N' 'Y'\n",
      " 'Y' 'Y' 'Y' 'Y' 'Y' 'N' 'Y' 'Y' 'Y' 'Y' 'Y' 'N' 'N' 'N' 'N' 'N' 'N' 'Y'\n",
      " 'N' 'Y' 'Y' 'Y' 'Y' 'Y']\n"
     ]
    }
   ],
   "source": [
    "# Make predictions using the loaded models\n",
    "knn_predictions = loaded_knn_model.predict(X_test)\n",
    "dt_predictions = loaded_dt_model.predict(X_test)\n",
    "\n",
    "# Print the predictions\n",
    "print(\"KNN Predictions:\", knn_predictions)\n",
    "print(\"Decision Tree Predictions:\", dt_predictions)"
   ]
  },
  {
   "cell_type": "markdown",
   "id": "892c17fb",
   "metadata": {},
   "source": [
    "### Important Features for Loan Approval Prediction"
   ]
  },
  {
   "cell_type": "markdown",
   "id": "1cd75c7f",
   "metadata": {},
   "source": [
    "#### Decision Trees\n",
    "To analyze the important features for loan approval prediction, we can examine the feature importances provided by the models. Decision Trees can provide insights into feature importance based on how often they are used for splitting the data."
   ]
  },
  {
   "cell_type": "code",
   "execution_count": 22,
   "id": "43064ba3",
   "metadata": {},
   "outputs": [
    {
     "name": "stdout",
     "output_type": "stream",
     "text": [
      "Feature Importance:\n",
      "                    Feature  Importance\n",
      "0           ApplicantIncome    0.274717\n",
      "4            Credit_History    0.273433\n",
      "2                LoanAmount    0.210412\n",
      "1         CoapplicantIncome    0.085769\n",
      "3          Loan_Amount_Term    0.049265\n",
      "8              Dependents_2    0.029134\n",
      "12  Property_Area_Semiurban    0.020439\n",
      "6               Married_Yes    0.019798\n",
      "7              Dependents_1    0.012121\n",
      "13      Property_Area_Urban    0.012121\n",
      "9             Dependents_3+    0.008059\n",
      "11        Self_Employed_Yes    0.004732\n",
      "5               Gender_Male    0.000000\n",
      "10   Education_Not Graduate    0.000000\n"
     ]
    }
   ],
   "source": [
    "# Get feature importances from the loaded Decision Tree model\n",
    "feature_importances = loaded_dt_model.feature_importances_\n",
    "\n",
    "# Create a DataFrame to display feature importances\n",
    "feature_importance_df = pd.DataFrame({'Feature': X.columns, 'Importance': feature_importances})\n",
    "feature_importance_df = feature_importance_df.sort_values('Importance', ascending=False)\n",
    "\n",
    "# Print the feature importances\n",
    "print(\"Feature Importance:\")\n",
    "print(feature_importance_df)"
   ]
  },
  {
   "cell_type": "code",
   "execution_count": 23,
   "id": "7fc816fa",
   "metadata": {},
   "outputs": [
    {
     "data": {
      "image/png": "[encoded data removed]",
      "text/plain": [
       "<Figure size 1000x600 with 1 Axes>"
      ]
     },
     "metadata": {},
     "output_type": "display_data"
    }
   ],
   "source": [
    "# Plot the feature importances for the Decision Tree model\n",
    "plt.figure(figsize=(10, 6))\n",
    "sns.barplot(x='Importance', y='Feature', data=feature_importance_df)\n",
    "plt.title(\"Feature Importances - Decision Tree Model\")\n",
    "plt.xlabel(\"Importance\")\n",
    "plt.ylabel(\"Feature\")\n",
    "plt.show()"
   ]
  },
  {
   "cell_type": "markdown",
   "id": "7d63d7a4",
   "metadata": {},
   "source": [
    "#### KNN\n",
    "\n",
    "In the case of KNN, we can use a different approach to understand the importance of features. We can calculate the mean value of each feature for the approved and rejected loan samples. The difference in mean values can indicate the relative importance of a feature in loan approval prediction. Here's the modified code snippet to calculate feature importance for the KNN model:"
   ]
  },
  {
   "cell_type": "code",
   "execution_count": 24,
   "id": "074ba511",
   "metadata": {},
   "outputs": [
    {
     "name": "stdout",
     "output_type": "stream",
     "text": [
      "Feature Importance (KNN):\n",
      "                    Feature Importance\n",
      "2                LoanAmount   0.175705\n",
      "1         CoapplicantIncome   0.154365\n",
      "12  Property_Area_Semiurban   0.097709\n",
      "0           ApplicantIncome   0.068277\n",
      "3          Loan_Amount_Term   0.041977\n",
      "6               Married_Yes    0.03914\n",
      "8              Dependents_2   0.032745\n",
      "9             Dependents_3+   0.024805\n",
      "13      Property_Area_Urban   0.020589\n",
      "7              Dependents_1   0.015881\n",
      "5               Gender_Male   0.000878\n",
      "10   Education_Not Graduate  -0.017638\n",
      "11        Self_Employed_Yes  -0.025473\n",
      "4            Credit_History  -0.036399\n"
     ]
    }
   ],
   "source": [
    "# Convert the target variable to numeric format\n",
    "label_encoder = LabelEncoder()\n",
    "y_numeric = label_encoder.fit_transform(y)\n",
    "\n",
    "# Create a DataFrame combining the features and numeric target variable\n",
    "df_combined = pd.concat([X, pd.Series(y_numeric, name='Loan_Status')], axis=1)\n",
    "\n",
    "# Calculate the mean values for each feature based on loan status\n",
    "mean_approved = df_combined[df_combined['Loan_Status'] == 1].mean()\n",
    "mean_rejected = df_combined[df_combined['Loan_Status'] == 0].mean()\n",
    "\n",
    "# Calculate the difference in mean values between approved and rejected loans\n",
    "feature_importances = mean_approved - mean_rejected\n",
    "\n",
    "# Sort the feature importances in descending order\n",
    "feature_importance_df = pd.DataFrame({'Feature': feature_importances.index, 'Importance': feature_importances.values})\n",
    "feature_importance_df = feature_importance_df.sort_values('Importance', ascending=False)\n",
    "\n",
    "# Remove the target variable from feature importances\n",
    "feature_importance_df = feature_importance_df[feature_importance_df['Feature'] != 'Loan_Status']\n",
    "\n",
    "# Print the feature importances\n",
    "print(\"Feature Importance (KNN):\")\n",
    "print(feature_importance_df)"
   ]
  },
  {
   "cell_type": "code",
   "execution_count": 25,
   "id": "7d682017",
   "metadata": {},
   "outputs": [
    {
     "data": {
      "image/png": "[encoded data removed]",
      "text/plain": [
       "<Figure size 1000x600 with 1 Axes>"
      ]
     },
     "metadata": {},
     "output_type": "display_data"
    }
   ],
   "source": [
    "# Plot the feature importances for the KNN model\n",
    "plt.figure(figsize=(10, 6))\n",
    "sns.barplot(x='Importance', y='Feature', data=feature_importance_df)\n",
    "plt.title(\"Feature Importance - KNN Model\")\n",
    "plt.xlabel(\"Importance\")\n",
    "plt.ylabel(\"Feature\")\n",
    "plt.show()"
   ]
  },
  {
   "cell_type": "markdown",
   "id": "76b78e86",
   "metadata": {},
   "source": [
    "### Conclusion\n",
    "\n",
    "By considering the model performance and feature importances, the bank can gain insights into the predictive power of different models and identify areas of improvement in their loan approval process. They can focus on the most important features and refine their decision-making criteria to enhance accuracy and efficiency.\n",
    "\n",
    "Additionally, it's important to note that feature importance analysis should be interpreted with caution, as it reflects the specific model used and may not generalize across different models or datasets. It is recommended to perform further analysis and domain expertise to validate the findings and make informed decisions.\n",
    "\n",
    "Based on the insights from the feature importances, the bank can refine their loan approval process, give more weightage to important features, and potentially adjust their decision criteria to improve accuracy and efficiency in predicting loan approval outcomes.\n",
    "\n",
    "\n",
    "\n",
    "\n"
   ]
  },
  {
   "cell_type": "markdown",
   "id": "a8850b7b",
   "metadata": {},
   "source": [
    "To determine which model performed better for loan prediction, we need to compare the performance metrics of the KNN and Decision Tree models. Typically, the choice of the \"better\" model depends on the specific requirements and priorities of the bank. \n",
    "\n",
    "- Accuracy: Accuracy measures the overall correctness of the model's predictions. It is the ratio of correctly predicted loan approvals to the total number of predictions. A higher accuracy indicates a better-performing model. You can compare the accuracy scores of both models and choose the one with a higher accuracy.\n",
    "\n",
    "- Precision: Precision measures the proportion of correctly predicted loan approvals out of the total predictions of loan approvals. It focuses on minimizing false positives, i.e., cases where the model incorrectly predicts loan approval. Higher precision indicates a lower rate of false positives.\n",
    "\n",
    "- Recall: Recall (also known as sensitivity or true positive rate) measures the proportion of actual loan approvals that are correctly predicted by the model. It focuses on minimizing false negatives, i.e., cases where the model incorrectly predicts loan rejection for applicants who should have been approved. Higher recall indicates a lower rate of false negatives.\n",
    "\n",
    "- F1-score: The F1-score is the harmonic mean of precision and recall. It provides a balanced measure of the model's performance, taking into account both false positives and false negatives. Higher F1-score indicates better overall performance."
   ]
  },
  {
   "cell_type": "markdown",
   "id": "e9da54c4",
   "metadata": {},
   "source": [
    "Based on the evaluation metrics, we can analyze the performance of the models as follows:\n",
    "\n",
    "- Accuracy: The KNN model achieved an accuracy of 0.77, while the Decision Tree model achieved an accuracy of 0.73. In terms of overall correctness, the KNN model performed slightly better.\n",
    "\n",
    "- Precision: The KNN model had a precision of 0.88 for class N (rejected loans) and 0.76 for class Y (approved loans). The Decision Tree model had a precision of 0.53 for class N and 0.84 for class Y. In terms of minimizing false positives, the KNN model performed better for class N, while the Decision Tree model had higher precision for class Y.\n",
    "\n",
    "- Recall: The KNN model achieved a recall of 0.25 for class N and 0.99 for class Y. The Decision Tree model had a recall of 0.64 for class N and 0.76 for class Y. The KNN model had higher recall for class Y, indicating it was better at capturing true positives.\n",
    "\n",
    "- F1-score: The KNN model achieved an F1-score of 0.39 for class N and 0.86 for class Y. The Decision Tree model had an F1-score of 0.58 for class N and 0.80 for class Y. The KNN model had higher F1-scores for both classes.\n",
    "\n",
    "Based on these evaluations, it can be concluded that the KNN model performs better in predicting loan approvals compared to the Decision Tree model. However, it's important to note that these conclusions are based on the specific dataset and evaluation metrics used. It is recommended to further validate the models on additional datasets and consider the specific requirements and priorities of the bank before making a final decision."
   ]
  }
 ],
 "metadata": {
  "kernelspec": {
   "display_name": "Python 3 (ipykernel)",
   "language": "python",
   "name": "python3"
  },
  "language_info": {
   "codemirror_mode": {
    "name": "ipython",
    "version": 3
   },
   "file_extension": ".py",
   "mimetype": "text/x-python",
   "name": "python",
   "nbconvert_exporter": "python",
   "pygments_lexer": "ipython3",
   "version": "3.11.3"
  }
 },
 "nbformat": 4,
 "nbformat_minor": 5
}
